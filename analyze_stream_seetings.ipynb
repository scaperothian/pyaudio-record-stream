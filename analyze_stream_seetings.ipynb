{
 "cells": [
  {
   "cell_type": "code",
   "execution_count": 108,
   "id": "eb498fcb-6b2f-49fe-9865-52a4493d114e",
   "metadata": {},
   "outputs": [],
   "source": [
    "import matplotlib.pyplot as plt\n",
    "import numpy as np\n",
    "import wave\n",
    "CHUNKSIZE = 1024 #given"
   ]
  },
  {
   "cell_type": "code",
   "execution_count": 109,
   "id": "d66e796e-5c89-4475-9ecb-e64cd12c5abd",
   "metadata": {},
   "outputs": [
    {
     "name": "stdout",
     "output_type": "stream",
     "text": [
      "\n",
      "Bytes Per Sample: 1\n",
      "Sampling Rate: 16000\n",
      "Number of Samples: 16384\n",
      "Read all bytes from /Users/optimus/test1_int8.wav\n",
      "Size of Array: 16384\n",
      "\n",
      "Bytes Per Sample: 2\n",
      "Sampling Rate: 16000\n",
      "Number of Samples: 16384\n",
      "Read all bytes from /Users/optimus/test1_int16.wav\n",
      "Size of Array: 16384\n",
      "\n",
      "Bytes Per Sample: 4\n",
      "Sampling Rate: 16000\n",
      "Number of Samples: 16384\n",
      "Read all bytes from /Users/optimus/test1_int32.wav\n",
      "Size of Array: 16384\n"
     ]
    },
    {
     "data": {
      "text/plain": [
       "<Figure size 800x400 with 0 Axes>"
      ]
     },
     "metadata": {},
     "output_type": "display_data"
    },
    {
     "data": {
      "image/png": "[encoded data removed]",
      "text/plain": [
       "<Figure size 640x480 with 3 Axes>"
      ]
     },
     "metadata": {},
     "output_type": "display_data"
    }
   ],
   "source": [
    "debug = False\n",
    "def create_histogram(filename,ax,index):\n",
    "    wf = wave.open(file)\n",
    "    number_samples = wf.getnframes()\n",
    "    bytes_per_sample = wf.getsampwidth()\n",
    "    \n",
    "    # https://docs.python.org/3/library/struct.html#format-characters\n",
    "    format_char = ''\n",
    "    if index == 0:          # 8-bit / 1 Byte int\n",
    "        format_char = 'b'\n",
    "    elif index == 1:        # 16-bit / 2 Btye int\n",
    "        format_char = 'h'\n",
    "    else:\n",
    "        format_char = 'i' # 32-bit / 4byte int\n",
    "    \n",
    "    b = []\n",
    "    i = 0\n",
    "    while True:\n",
    "        # bits - type bytes / binary string\n",
    "        bits = wf.readframes(CHUNKSIZE)\n",
    "\n",
    "        if len(bits) == 0:\n",
    "            print(f'Read all bytes from {file}')\n",
    "            break\n",
    "        #print(i, len(bits))\n",
    "        \n",
    "        format_string = f'{CHUNKSIZE}{format_char}'\n",
    "        signed_int = struct.unpack(format_string, bits)\n",
    "        b.extend(signed_int)\n",
    "        i += 1\n",
    "    if debug: \n",
    "        print(f\"\\nBytes Per Sample: {wf.getsampwidth()}\")\n",
    "        print(f\"Sampling Rate: {wf.getframerate()}\")\n",
    "        print(f\"Number of Samples: {wf.getnframes()}\")\n",
    "        print(f\"Size of Array: {len(b)}\")\n",
    "    ax[index].hist(b,bins=50)\n",
    "\n",
    "plt.figure(1, figsize=(8, 4))\n",
    "#plt.subplot(1,3,1)\n",
    "fig, axs = plt.subplots(3)\n",
    "\n",
    "file = '/Users/optimus/test1_int8.wav'\n",
    "create_histogram(file,axs,0)\n",
    "\n",
    "file = '/Users/optimus/test1_int16.wav'\n",
    "create_histogram(file,axs,1)\n",
    "\n",
    "file = '/Users/optimus/test1_int32.wav'\n",
    "create_histogram(file,axs,2)"
   ]
  },
  {
   "cell_type": "markdown",
   "id": "913317dc-9c8a-4fe5-b222-d0840bacbd36",
   "metadata": {},
   "source": [
    "**Observation**: \n",
    "Samples appear to have a range that does not violate their maximum ranges afforded that bit-resolution.  I wonder what might happen if I normalized the song?  "
   ]
  }
 ],
 "metadata": {
  "kernelspec": {
   "display_name": "mldev",
   "language": "python",
   "name": "mldev"
  },
  "language_info": {
   "codemirror_mode": {
    "name": "ipython",
    "version": 3
   },
   "file_extension": ".py",
   "mimetype": "text/x-python",
   "name": "python",
   "nbconvert_exporter": "python",
   "pygments_lexer": "ipython3",
   "version": "3.9.7"
  }
 },
 "nbformat": 4,
 "nbformat_minor": 5
}
